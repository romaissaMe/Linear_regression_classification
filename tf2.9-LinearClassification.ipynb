{
 "cells": [
  {
   "cell_type": "code",
   "execution_count": 1,
   "id": "81fe21b2",
   "metadata": {},
   "outputs": [],
   "source": [
    "import tensorflow as tf\n",
    "import numpy as np"
   ]
  },
  {
   "cell_type": "code",
   "execution_count": 2,
   "id": "970f7058",
   "metadata": {},
   "outputs": [
    {
     "data": {
      "text/plain": [
       "'2.9.1'"
      ]
     },
     "execution_count": 2,
     "metadata": {},
     "output_type": "execute_result"
    }
   ],
   "source": [
    "tf.__version__"
   ]
  },
  {
   "cell_type": "code",
   "execution_count": 3,
   "id": "a3dd38d6",
   "metadata": {},
   "outputs": [
    {
     "name": "stdout",
     "output_type": "stream",
     "text": [
      "3.9.13 (main, Oct 13 2022, 21:23:06) [MSC v.1916 64 bit (AMD64)]\n"
     ]
    }
   ],
   "source": [
    "import sys\n",
    "\n",
    "print(sys.version)"
   ]
  },
  {
   "cell_type": "markdown",
   "id": "c1d8268e",
   "metadata": {},
   "source": [
    "#load dataset"
   ]
  },
  {
   "cell_type": "code",
   "execution_count": 4,
   "id": "bda51bcd",
   "metadata": {},
   "outputs": [
    {
     "data": {
      "text/plain": [
       "'C:\\\\Users\\\\Lenovo\\\\anaconda3\\\\envs\\\\my-env\\\\python.exe'"
      ]
     },
     "execution_count": 4,
     "metadata": {},
     "output_type": "execute_result"
    }
   ],
   "source": [
    "sys.executable"
   ]
  },
  {
   "cell_type": "code",
   "execution_count": 5,
   "id": "bfc26bcb",
   "metadata": {
    "scrolled": true
   },
   "outputs": [
    {
     "name": "stdout",
     "output_type": "stream",
     "text": [
      "Name: scikit-learn\n",
      "Version: 1.1.3\n",
      "Summary: A set of python modules for machine learning and data mining\n",
      "Home-page: http://scikit-learn.org\n",
      "Author: \n",
      "Author-email: \n",
      "License: new BSD\n",
      "Location: c:\\users\\lenovo\\anaconda3\\envs\\my-env\\lib\\site-packages\n",
      "Requires: joblib, numpy, scipy, threadpoolctl\n",
      "Required-by: \n"
     ]
    }
   ],
   "source": [
    "!pip show scikit-learn"
   ]
  },
  {
   "cell_type": "raw",
   "id": "6033ee4a",
   "metadata": {},
   "source": [
    "import data"
   ]
  },
  {
   "cell_type": "code",
   "execution_count": 6,
   "id": "ae04d350",
   "metadata": {},
   "outputs": [],
   "source": [
    "import sklearn as sk"
   ]
  },
  {
   "cell_type": "code",
   "execution_count": 7,
   "id": "e1d36329",
   "metadata": {},
   "outputs": [
    {
     "data": {
      "text/plain": [
       "'1.1.3'"
      ]
     },
     "execution_count": 7,
     "metadata": {},
     "output_type": "execute_result"
    }
   ],
   "source": [
    "sk.__version__"
   ]
  },
  {
   "cell_type": "code",
   "execution_count": 8,
   "id": "1038d883",
   "metadata": {},
   "outputs": [],
   "source": [
    "from sklearn.datasets import load_breast_cancer"
   ]
  },
  {
   "cell_type": "code",
   "execution_count": 9,
   "id": "c004835b",
   "metadata": {},
   "outputs": [],
   "source": [
    "data= load_breast_cancer()"
   ]
  },
  {
   "cell_type": "code",
   "execution_count": 10,
   "id": "6dfffa3a",
   "metadata": {},
   "outputs": [
    {
     "data": {
      "text/plain": [
       "sklearn.utils._bunch.Bunch"
      ]
     },
     "execution_count": 10,
     "metadata": {},
     "output_type": "execute_result"
    }
   ],
   "source": [
    "#check the type of data\n",
    "type(data)"
   ]
  },
  {
   "cell_type": "code",
   "execution_count": 11,
   "id": "50a4e40d",
   "metadata": {},
   "outputs": [
    {
     "data": {
      "text/plain": [
       "dict_keys(['data', 'target', 'frame', 'target_names', 'DESCR', 'feature_names', 'filename', 'data_module'])"
      ]
     },
     "execution_count": 11,
     "metadata": {},
     "output_type": "execute_result"
    }
   ],
   "source": [
    "#this is a bunch object means it acts like a dictionary where keys can be treated like attributes\n",
    "data.keys()"
   ]
  },
  {
   "cell_type": "code",
   "execution_count": 12,
   "id": "d6d52d2b",
   "metadata": {},
   "outputs": [
    {
     "data": {
      "text/plain": [
       "(569, 30)"
      ]
     },
     "execution_count": 12,
     "metadata": {},
     "output_type": "execute_result"
    }
   ],
   "source": [
    "#data refers to inputs \n",
    "data.data.shape\n",
    "#569 samples 30 features"
   ]
  },
  {
   "cell_type": "code",
   "execution_count": 13,
   "id": "e9813b19",
   "metadata": {},
   "outputs": [
    {
     "data": {
      "text/plain": [
       "array([0, 0, 0, 0, 0, 0, 0, 0, 0, 0, 0, 0, 0, 0, 0, 0, 0, 0, 0, 1, 1, 1,\n",
       "       0, 0, 0, 0, 0, 0, 0, 0, 0, 0, 0, 0, 0, 0, 0, 1, 0, 0, 0, 0, 0, 0,\n",
       "       0, 0, 1, 0, 1, 1, 1, 1, 1, 0, 0, 1, 0, 0, 1, 1, 1, 1, 0, 1, 0, 0,\n",
       "       1, 1, 1, 1, 0, 1, 0, 0, 1, 0, 1, 0, 0, 1, 1, 1, 0, 0, 1, 0, 0, 0,\n",
       "       1, 1, 1, 0, 1, 1, 0, 0, 1, 1, 1, 0, 0, 1, 1, 1, 1, 0, 1, 1, 0, 1,\n",
       "       1, 1, 1, 1, 1, 1, 1, 0, 0, 0, 1, 0, 0, 1, 1, 1, 0, 0, 1, 0, 1, 0,\n",
       "       0, 1, 0, 0, 1, 1, 0, 1, 1, 0, 1, 1, 1, 1, 0, 1, 1, 1, 1, 1, 1, 1,\n",
       "       1, 1, 0, 1, 1, 1, 1, 0, 0, 1, 0, 1, 1, 0, 0, 1, 1, 0, 0, 1, 1, 1,\n",
       "       1, 0, 1, 1, 0, 0, 0, 1, 0, 1, 0, 1, 1, 1, 0, 1, 1, 0, 0, 1, 0, 0,\n",
       "       0, 0, 1, 0, 0, 0, 1, 0, 1, 0, 1, 1, 0, 1, 0, 0, 0, 0, 1, 1, 0, 0,\n",
       "       1, 1, 1, 0, 1, 1, 1, 1, 1, 0, 0, 1, 1, 0, 1, 1, 0, 0, 1, 0, 1, 1,\n",
       "       1, 1, 0, 1, 1, 1, 1, 1, 0, 1, 0, 0, 0, 0, 0, 0, 0, 0, 0, 0, 0, 0,\n",
       "       0, 0, 1, 1, 1, 1, 1, 1, 0, 1, 0, 1, 1, 0, 1, 1, 0, 1, 0, 0, 1, 1,\n",
       "       1, 1, 1, 1, 1, 1, 1, 1, 1, 1, 1, 0, 1, 1, 0, 1, 0, 1, 1, 1, 1, 1,\n",
       "       1, 1, 1, 1, 1, 1, 1, 1, 1, 0, 1, 1, 1, 0, 1, 0, 1, 1, 1, 1, 0, 0,\n",
       "       0, 1, 1, 1, 1, 0, 1, 0, 1, 0, 1, 1, 1, 0, 1, 1, 1, 1, 1, 1, 1, 0,\n",
       "       0, 0, 1, 1, 1, 1, 1, 1, 1, 1, 1, 1, 1, 0, 0, 1, 0, 0, 0, 1, 0, 0,\n",
       "       1, 1, 1, 1, 1, 0, 1, 1, 1, 1, 1, 0, 1, 1, 1, 0, 1, 1, 0, 0, 1, 1,\n",
       "       1, 1, 1, 1, 0, 1, 1, 1, 1, 1, 1, 1, 0, 1, 1, 1, 1, 1, 0, 1, 1, 0,\n",
       "       1, 1, 1, 1, 1, 1, 1, 1, 1, 1, 1, 1, 0, 1, 0, 0, 1, 0, 1, 1, 1, 1,\n",
       "       1, 0, 1, 1, 0, 1, 0, 1, 1, 0, 1, 0, 1, 1, 1, 1, 1, 1, 1, 1, 0, 0,\n",
       "       1, 1, 1, 1, 1, 1, 0, 1, 1, 1, 1, 1, 1, 1, 1, 1, 1, 0, 1, 1, 1, 1,\n",
       "       1, 1, 1, 0, 1, 0, 1, 1, 0, 1, 1, 1, 1, 1, 0, 0, 1, 0, 1, 0, 1, 1,\n",
       "       1, 1, 1, 0, 1, 1, 0, 1, 0, 1, 0, 0, 1, 1, 1, 0, 1, 1, 1, 1, 1, 1,\n",
       "       1, 1, 1, 1, 1, 0, 1, 0, 0, 1, 1, 1, 1, 1, 1, 1, 1, 1, 1, 1, 1, 1,\n",
       "       1, 1, 1, 1, 1, 1, 1, 1, 1, 1, 1, 1, 0, 0, 0, 0, 0, 0, 1])"
      ]
     },
     "execution_count": 13,
     "metadata": {},
     "output_type": "execute_result"
    }
   ],
   "source": [
    "data.target"
   ]
  },
  {
   "cell_type": "code",
   "execution_count": 14,
   "id": "c3128857",
   "metadata": {},
   "outputs": [
    {
     "data": {
      "text/plain": [
       "(569,)"
      ]
     },
     "execution_count": 14,
     "metadata": {},
     "output_type": "execute_result"
    }
   ],
   "source": [
    "data.target.shape\n",
    "#1 dim array of 569 length"
   ]
  },
  {
   "cell_type": "code",
   "execution_count": 15,
   "id": "8dc02852",
   "metadata": {},
   "outputs": [
    {
     "data": {
      "text/plain": [
       "array(['mean radius', 'mean texture', 'mean perimeter', 'mean area',\n",
       "       'mean smoothness', 'mean compactness', 'mean concavity',\n",
       "       'mean concave points', 'mean symmetry', 'mean fractal dimension',\n",
       "       'radius error', 'texture error', 'perimeter error', 'area error',\n",
       "       'smoothness error', 'compactness error', 'concavity error',\n",
       "       'concave points error', 'symmetry error',\n",
       "       'fractal dimension error', 'worst radius', 'worst texture',\n",
       "       'worst perimeter', 'worst area', 'worst smoothness',\n",
       "       'worst compactness', 'worst concavity', 'worst concave points',\n",
       "       'worst symmetry', 'worst fractal dimension'], dtype='<U23')"
      ]
     },
     "execution_count": 15,
     "metadata": {},
     "output_type": "execute_result"
    }
   ],
   "source": [
    "#access the meaning of each feature\n",
    "data.feature_names"
   ]
  },
  {
   "cell_type": "code",
   "execution_count": 16,
   "id": "4955184b",
   "metadata": {},
   "outputs": [],
   "source": [
    "X=data.data\n",
    "Y=data.target"
   ]
  },
  {
   "cell_type": "code",
   "execution_count": 17,
   "id": "928e7b54",
   "metadata": {},
   "outputs": [],
   "source": [
    "#split data into test and train\n",
    "from sklearn.model_selection import train_test_split \n",
    "X_train,X_test,Y_train,Y_test = train_test_split(data.data,data.target,test_size=0.30)"
   ]
  },
  {
   "cell_type": "code",
   "execution_count": 18,
   "id": "8d4231a9",
   "metadata": {},
   "outputs": [
    {
     "data": {
      "text/plain": [
       "(398, 30)"
      ]
     },
     "execution_count": 18,
     "metadata": {},
     "output_type": "execute_result"
    }
   ],
   "source": [
    "n,d=X_train.shape\n",
    "n,d"
   ]
  },
  {
   "cell_type": "code",
   "execution_count": 19,
   "id": "8c415d99",
   "metadata": {},
   "outputs": [
    {
     "data": {
      "text/plain": [
       "(398,)"
      ]
     },
     "execution_count": 19,
     "metadata": {},
     "output_type": "execute_result"
    }
   ],
   "source": [
    "Y_train.shape"
   ]
  },
  {
   "cell_type": "code",
   "execution_count": 20,
   "id": "c8538818",
   "metadata": {},
   "outputs": [],
   "source": [
    "#Scale the data\n",
    "from sklearn.preprocessing import StandardScaler\n",
    "scaler = StandardScaler()\n",
    "X_train = scaler.fit_transform(X_train)\n",
    "X_test=scaler.transform(X_test)"
   ]
  },
  {
   "cell_type": "code",
   "execution_count": 21,
   "id": "0618d466",
   "metadata": {},
   "outputs": [
    {
     "name": "stdout",
     "output_type": "stream",
     "text": [
      "[[-5.95442555e-03 -5.81574961e-01 -1.13971897e-01 ... -1.21221556e+00\n",
      "  -7.17457440e-01 -1.30208255e+00]\n",
      " [-5.01707319e-01  1.15355513e+00 -3.61913695e-01 ...  1.58055845e+00\n",
      "   2.53366113e+00  7.64691383e+00]\n",
      " [-3.41874419e-01  1.68286291e-02 -4.15183971e-01 ... -1.54287810e+00\n",
      "  -7.49832310e-01 -1.19870727e+00]\n",
      " ...\n",
      " [-3.55419580e-01  1.41550690e+00 -4.15183971e-01 ... -8.27087453e-01\n",
      "  -9.76456403e-01 -1.19748390e+00]\n",
      " [-5.74851188e-01 -1.42991419e+00 -5.53451673e-01 ... -4.89877143e-01\n",
      "   1.00522645e+00  6.06995895e-01]\n",
      " [-2.03713776e-01 -1.28331732e+00 -1.80951435e-01 ... -3.55498983e-01\n",
      "   3.16834473e-01 -4.38402061e-02]]\n",
      "(171, 30)\n"
     ]
    }
   ],
   "source": [
    "print(X_test)\n",
    "print(X_test.shape)"
   ]
  },
  {
   "cell_type": "code",
   "execution_count": 22,
   "id": "51d18960",
   "metadata": {},
   "outputs": [],
   "source": [
    "#build the model\n",
    "from tensorflow.keras.models import Sequential\n",
    "from tensorflow.keras.layers import Dense\n",
    "model=Sequential()\n",
    "model.add(Dense(1,input_shape=(d,),activation='sigmoid'))"
   ]
  },
  {
   "cell_type": "code",
   "execution_count": 23,
   "id": "8aa77e2e",
   "metadata": {
    "scrolled": true
   },
   "outputs": [
    {
     "name": "stdout",
     "output_type": "stream",
     "text": [
      "Epoch 1/100\n",
      "13/13 [==============================] - 1s 26ms/step - loss: 0.2988 - accuracy: 0.9070 - val_loss: 0.3299 - val_accuracy: 0.8772\n",
      "Epoch 2/100\n",
      "13/13 [==============================] - 0s 10ms/step - loss: 0.2819 - accuracy: 0.9146 - val_loss: 0.3112 - val_accuracy: 0.9006\n",
      "Epoch 3/100\n",
      "13/13 [==============================] - 0s 8ms/step - loss: 0.2680 - accuracy: 0.9146 - val_loss: 0.2934 - val_accuracy: 0.9123\n",
      "Epoch 4/100\n",
      "13/13 [==============================] - 0s 7ms/step - loss: 0.2543 - accuracy: 0.9196 - val_loss: 0.2784 - val_accuracy: 0.9240\n",
      "Epoch 5/100\n",
      "13/13 [==============================] - 0s 9ms/step - loss: 0.2427 - accuracy: 0.9221 - val_loss: 0.2644 - val_accuracy: 0.9240\n",
      "Epoch 6/100\n",
      "13/13 [==============================] - 0s 6ms/step - loss: 0.2317 - accuracy: 0.9246 - val_loss: 0.2521 - val_accuracy: 0.9240\n",
      "Epoch 7/100\n",
      "13/13 [==============================] - 0s 8ms/step - loss: 0.2223 - accuracy: 0.9246 - val_loss: 0.2404 - val_accuracy: 0.9298\n",
      "Epoch 8/100\n",
      "13/13 [==============================] - 0s 8ms/step - loss: 0.2133 - accuracy: 0.9322 - val_loss: 0.2300 - val_accuracy: 0.9357\n",
      "Epoch 9/100\n",
      "13/13 [==============================] - 0s 6ms/step - loss: 0.2051 - accuracy: 0.9372 - val_loss: 0.2204 - val_accuracy: 0.9357\n",
      "Epoch 10/100\n",
      "13/13 [==============================] - 0s 7ms/step - loss: 0.1975 - accuracy: 0.9372 - val_loss: 0.2116 - val_accuracy: 0.9474\n",
      "Epoch 11/100\n",
      "13/13 [==============================] - 0s 7ms/step - loss: 0.1906 - accuracy: 0.9422 - val_loss: 0.2035 - val_accuracy: 0.9474\n",
      "Epoch 12/100\n",
      "13/13 [==============================] - 0s 7ms/step - loss: 0.1842 - accuracy: 0.9422 - val_loss: 0.1963 - val_accuracy: 0.9532\n",
      "Epoch 13/100\n",
      "13/13 [==============================] - 0s 10ms/step - loss: 0.1786 - accuracy: 0.9422 - val_loss: 0.1892 - val_accuracy: 0.9532\n",
      "Epoch 14/100\n",
      "13/13 [==============================] - 0s 8ms/step - loss: 0.1729 - accuracy: 0.9447 - val_loss: 0.1827 - val_accuracy: 0.9532\n",
      "Epoch 15/100\n",
      "13/13 [==============================] - 0s 8ms/step - loss: 0.1680 - accuracy: 0.9497 - val_loss: 0.1767 - val_accuracy: 0.9591\n",
      "Epoch 16/100\n",
      "13/13 [==============================] - 0s 8ms/step - loss: 0.1629 - accuracy: 0.9548 - val_loss: 0.1715 - val_accuracy: 0.9591\n",
      "Epoch 17/100\n",
      "13/13 [==============================] - 0s 8ms/step - loss: 0.1587 - accuracy: 0.9548 - val_loss: 0.1664 - val_accuracy: 0.9591\n",
      "Epoch 18/100\n",
      "13/13 [==============================] - 0s 6ms/step - loss: 0.1545 - accuracy: 0.9548 - val_loss: 0.1616 - val_accuracy: 0.9591\n",
      "Epoch 19/100\n",
      "13/13 [==============================] - 0s 8ms/step - loss: 0.1507 - accuracy: 0.9573 - val_loss: 0.1570 - val_accuracy: 0.9591\n",
      "Epoch 20/100\n",
      "13/13 [==============================] - 0s 7ms/step - loss: 0.1469 - accuracy: 0.9598 - val_loss: 0.1530 - val_accuracy: 0.9591\n",
      "Epoch 21/100\n",
      "13/13 [==============================] - 0s 8ms/step - loss: 0.1435 - accuracy: 0.9598 - val_loss: 0.1488 - val_accuracy: 0.9591\n",
      "Epoch 22/100\n",
      "13/13 [==============================] - 0s 7ms/step - loss: 0.1403 - accuracy: 0.9598 - val_loss: 0.1452 - val_accuracy: 0.9591\n",
      "Epoch 23/100\n",
      "13/13 [==============================] - 0s 7ms/step - loss: 0.1374 - accuracy: 0.9598 - val_loss: 0.1419 - val_accuracy: 0.9591\n",
      "Epoch 24/100\n",
      "13/13 [==============================] - 0s 6ms/step - loss: 0.1346 - accuracy: 0.9623 - val_loss: 0.1390 - val_accuracy: 0.9591\n",
      "Epoch 25/100\n",
      "13/13 [==============================] - 0s 7ms/step - loss: 0.1323 - accuracy: 0.9623 - val_loss: 0.1359 - val_accuracy: 0.9591\n",
      "Epoch 26/100\n",
      "13/13 [==============================] - 0s 7ms/step - loss: 0.1299 - accuracy: 0.9648 - val_loss: 0.1330 - val_accuracy: 0.9591\n",
      "Epoch 27/100\n",
      "13/13 [==============================] - 0s 7ms/step - loss: 0.1277 - accuracy: 0.9648 - val_loss: 0.1303 - val_accuracy: 0.9591\n",
      "Epoch 28/100\n",
      "13/13 [==============================] - 0s 10ms/step - loss: 0.1256 - accuracy: 0.9673 - val_loss: 0.1279 - val_accuracy: 0.9591\n",
      "Epoch 29/100\n",
      "13/13 [==============================] - 0s 12ms/step - loss: 0.1236 - accuracy: 0.9673 - val_loss: 0.1256 - val_accuracy: 0.9591\n",
      "Epoch 30/100\n",
      "13/13 [==============================] - 0s 6ms/step - loss: 0.1218 - accuracy: 0.9673 - val_loss: 0.1232 - val_accuracy: 0.9591\n",
      "Epoch 31/100\n",
      "13/13 [==============================] - 0s 8ms/step - loss: 0.1199 - accuracy: 0.9724 - val_loss: 0.1213 - val_accuracy: 0.9591\n",
      "Epoch 32/100\n",
      "13/13 [==============================] - 0s 7ms/step - loss: 0.1183 - accuracy: 0.9724 - val_loss: 0.1193 - val_accuracy: 0.9591\n",
      "Epoch 33/100\n",
      "13/13 [==============================] - 0s 6ms/step - loss: 0.1168 - accuracy: 0.9749 - val_loss: 0.1175 - val_accuracy: 0.9591\n",
      "Epoch 34/100\n",
      "13/13 [==============================] - 0s 6ms/step - loss: 0.1153 - accuracy: 0.9749 - val_loss: 0.1157 - val_accuracy: 0.9649\n",
      "Epoch 35/100\n",
      "13/13 [==============================] - 0s 6ms/step - loss: 0.1139 - accuracy: 0.9749 - val_loss: 0.1139 - val_accuracy: 0.9649\n",
      "Epoch 36/100\n",
      "13/13 [==============================] - 0s 6ms/step - loss: 0.1124 - accuracy: 0.9774 - val_loss: 0.1123 - val_accuracy: 0.9649\n",
      "Epoch 37/100\n",
      "13/13 [==============================] - 0s 9ms/step - loss: 0.1111 - accuracy: 0.9774 - val_loss: 0.1108 - val_accuracy: 0.9649\n",
      "Epoch 38/100\n",
      "13/13 [==============================] - 0s 10ms/step - loss: 0.1099 - accuracy: 0.9774 - val_loss: 0.1092 - val_accuracy: 0.9649\n",
      "Epoch 39/100\n",
      "13/13 [==============================] - 0s 8ms/step - loss: 0.1087 - accuracy: 0.9774 - val_loss: 0.1078 - val_accuracy: 0.9708\n",
      "Epoch 40/100\n",
      "13/13 [==============================] - 0s 6ms/step - loss: 0.1075 - accuracy: 0.9774 - val_loss: 0.1065 - val_accuracy: 0.9708\n",
      "Epoch 41/100\n",
      "13/13 [==============================] - 0s 11ms/step - loss: 0.1065 - accuracy: 0.9774 - val_loss: 0.1051 - val_accuracy: 0.9708\n",
      "Epoch 42/100\n",
      "13/13 [==============================] - 0s 12ms/step - loss: 0.1055 - accuracy: 0.9774 - val_loss: 0.1038 - val_accuracy: 0.9708\n",
      "Epoch 43/100\n",
      "13/13 [==============================] - 0s 8ms/step - loss: 0.1044 - accuracy: 0.9774 - val_loss: 0.1025 - val_accuracy: 0.9708\n",
      "Epoch 44/100\n",
      "13/13 [==============================] - 0s 7ms/step - loss: 0.1034 - accuracy: 0.9774 - val_loss: 0.1013 - val_accuracy: 0.9708\n",
      "Epoch 45/100\n",
      "13/13 [==============================] - 0s 7ms/step - loss: 0.1026 - accuracy: 0.9774 - val_loss: 0.1001 - val_accuracy: 0.9708\n",
      "Epoch 46/100\n",
      "13/13 [==============================] - 0s 7ms/step - loss: 0.1017 - accuracy: 0.9774 - val_loss: 0.0991 - val_accuracy: 0.9766\n",
      "Epoch 47/100\n",
      "13/13 [==============================] - 0s 8ms/step - loss: 0.1009 - accuracy: 0.9774 - val_loss: 0.0982 - val_accuracy: 0.9766\n",
      "Epoch 48/100\n",
      "13/13 [==============================] - 0s 7ms/step - loss: 0.1000 - accuracy: 0.9774 - val_loss: 0.0971 - val_accuracy: 0.9766\n",
      "Epoch 49/100\n",
      "13/13 [==============================] - 0s 7ms/step - loss: 0.0992 - accuracy: 0.9774 - val_loss: 0.0962 - val_accuracy: 0.9766\n",
      "Epoch 50/100\n",
      "13/13 [==============================] - 0s 7ms/step - loss: 0.0984 - accuracy: 0.9774 - val_loss: 0.0951 - val_accuracy: 0.9766\n",
      "Epoch 51/100\n",
      "13/13 [==============================] - 0s 5ms/step - loss: 0.0977 - accuracy: 0.9774 - val_loss: 0.0943 - val_accuracy: 0.9766\n",
      "Epoch 52/100\n",
      "13/13 [==============================] - 0s 5ms/step - loss: 0.0970 - accuracy: 0.9774 - val_loss: 0.0934 - val_accuracy: 0.9766\n",
      "Epoch 53/100\n",
      "13/13 [==============================] - 0s 8ms/step - loss: 0.0963 - accuracy: 0.9774 - val_loss: 0.0925 - val_accuracy: 0.9766\n",
      "Epoch 54/100\n",
      "13/13 [==============================] - 0s 5ms/step - loss: 0.0956 - accuracy: 0.9774 - val_loss: 0.0918 - val_accuracy: 0.9766\n",
      "Epoch 55/100\n",
      "13/13 [==============================] - 0s 5ms/step - loss: 0.0950 - accuracy: 0.9774 - val_loss: 0.0910 - val_accuracy: 0.9766\n",
      "Epoch 56/100\n",
      "13/13 [==============================] - 0s 6ms/step - loss: 0.0944 - accuracy: 0.9774 - val_loss: 0.0902 - val_accuracy: 0.9766\n",
      "Epoch 57/100\n",
      "13/13 [==============================] - 0s 5ms/step - loss: 0.0938 - accuracy: 0.9774 - val_loss: 0.0896 - val_accuracy: 0.9766\n",
      "Epoch 58/100\n",
      "13/13 [==============================] - 0s 6ms/step - loss: 0.0932 - accuracy: 0.9774 - val_loss: 0.0888 - val_accuracy: 0.9766\n"
     ]
    },
    {
     "name": "stdout",
     "output_type": "stream",
     "text": [
      "Epoch 59/100\n",
      "13/13 [==============================] - 0s 5ms/step - loss: 0.0926 - accuracy: 0.9774 - val_loss: 0.0881 - val_accuracy: 0.9766\n",
      "Epoch 60/100\n",
      "13/13 [==============================] - 0s 6ms/step - loss: 0.0921 - accuracy: 0.9799 - val_loss: 0.0874 - val_accuracy: 0.9825\n",
      "Epoch 61/100\n",
      "13/13 [==============================] - 0s 5ms/step - loss: 0.0916 - accuracy: 0.9799 - val_loss: 0.0868 - val_accuracy: 0.9825\n",
      "Epoch 62/100\n",
      "13/13 [==============================] - 0s 5ms/step - loss: 0.0910 - accuracy: 0.9799 - val_loss: 0.0861 - val_accuracy: 0.9825\n",
      "Epoch 63/100\n",
      "13/13 [==============================] - 0s 5ms/step - loss: 0.0905 - accuracy: 0.9799 - val_loss: 0.0855 - val_accuracy: 0.9825\n",
      "Epoch 64/100\n",
      "13/13 [==============================] - 0s 5ms/step - loss: 0.0901 - accuracy: 0.9824 - val_loss: 0.0849 - val_accuracy: 0.9825\n",
      "Epoch 65/100\n",
      "13/13 [==============================] - 0s 6ms/step - loss: 0.0896 - accuracy: 0.9824 - val_loss: 0.0843 - val_accuracy: 0.9825\n",
      "Epoch 66/100\n",
      "13/13 [==============================] - 0s 5ms/step - loss: 0.0891 - accuracy: 0.9824 - val_loss: 0.0837 - val_accuracy: 0.9825\n",
      "Epoch 67/100\n",
      "13/13 [==============================] - 0s 5ms/step - loss: 0.0886 - accuracy: 0.9824 - val_loss: 0.0831 - val_accuracy: 0.9825\n",
      "Epoch 68/100\n",
      "13/13 [==============================] - 0s 5ms/step - loss: 0.0882 - accuracy: 0.9824 - val_loss: 0.0827 - val_accuracy: 0.9825\n",
      "Epoch 69/100\n",
      "13/13 [==============================] - 0s 7ms/step - loss: 0.0878 - accuracy: 0.9824 - val_loss: 0.0821 - val_accuracy: 0.9825\n",
      "Epoch 70/100\n",
      "13/13 [==============================] - 0s 6ms/step - loss: 0.0873 - accuracy: 0.9824 - val_loss: 0.0816 - val_accuracy: 0.9825\n",
      "Epoch 71/100\n",
      "13/13 [==============================] - 0s 5ms/step - loss: 0.0869 - accuracy: 0.9824 - val_loss: 0.0811 - val_accuracy: 0.9825\n",
      "Epoch 72/100\n",
      "13/13 [==============================] - 0s 5ms/step - loss: 0.0865 - accuracy: 0.9824 - val_loss: 0.0806 - val_accuracy: 0.9825\n",
      "Epoch 73/100\n",
      "13/13 [==============================] - 0s 5ms/step - loss: 0.0861 - accuracy: 0.9824 - val_loss: 0.0801 - val_accuracy: 0.9825\n",
      "Epoch 74/100\n",
      "13/13 [==============================] - 0s 5ms/step - loss: 0.0858 - accuracy: 0.9824 - val_loss: 0.0797 - val_accuracy: 0.9825\n",
      "Epoch 75/100\n",
      "13/13 [==============================] - 0s 6ms/step - loss: 0.0854 - accuracy: 0.9824 - val_loss: 0.0793 - val_accuracy: 0.9825\n",
      "Epoch 76/100\n",
      "13/13 [==============================] - 0s 5ms/step - loss: 0.0850 - accuracy: 0.9824 - val_loss: 0.0788 - val_accuracy: 0.9825\n",
      "Epoch 77/100\n",
      "13/13 [==============================] - 0s 5ms/step - loss: 0.0847 - accuracy: 0.9824 - val_loss: 0.0784 - val_accuracy: 0.9825\n",
      "Epoch 78/100\n",
      "13/13 [==============================] - 0s 5ms/step - loss: 0.0844 - accuracy: 0.9824 - val_loss: 0.0780 - val_accuracy: 0.9825\n",
      "Epoch 79/100\n",
      "13/13 [==============================] - 0s 5ms/step - loss: 0.0840 - accuracy: 0.9824 - val_loss: 0.0776 - val_accuracy: 0.9825\n",
      "Epoch 80/100\n",
      "13/13 [==============================] - 0s 5ms/step - loss: 0.0837 - accuracy: 0.9824 - val_loss: 0.0771 - val_accuracy: 0.9825\n",
      "Epoch 81/100\n",
      "13/13 [==============================] - 0s 7ms/step - loss: 0.0834 - accuracy: 0.9824 - val_loss: 0.0768 - val_accuracy: 0.9825\n",
      "Epoch 82/100\n",
      "13/13 [==============================] - 0s 6ms/step - loss: 0.0830 - accuracy: 0.9824 - val_loss: 0.0764 - val_accuracy: 0.9883\n",
      "Epoch 83/100\n",
      "13/13 [==============================] - 0s 6ms/step - loss: 0.0828 - accuracy: 0.9824 - val_loss: 0.0760 - val_accuracy: 0.9883\n",
      "Epoch 84/100\n",
      "13/13 [==============================] - 0s 7ms/step - loss: 0.0824 - accuracy: 0.9824 - val_loss: 0.0756 - val_accuracy: 0.9883\n",
      "Epoch 85/100\n",
      "13/13 [==============================] - 0s 6ms/step - loss: 0.0821 - accuracy: 0.9824 - val_loss: 0.0753 - val_accuracy: 0.9883\n",
      "Epoch 86/100\n",
      "13/13 [==============================] - 0s 6ms/step - loss: 0.0818 - accuracy: 0.9824 - val_loss: 0.0750 - val_accuracy: 0.9883\n",
      "Epoch 87/100\n",
      "13/13 [==============================] - 0s 6ms/step - loss: 0.0815 - accuracy: 0.9849 - val_loss: 0.0746 - val_accuracy: 0.9883\n",
      "Epoch 88/100\n",
      "13/13 [==============================] - 0s 6ms/step - loss: 0.0812 - accuracy: 0.9849 - val_loss: 0.0743 - val_accuracy: 0.9883\n",
      "Epoch 89/100\n",
      "13/13 [==============================] - 0s 5ms/step - loss: 0.0810 - accuracy: 0.9849 - val_loss: 0.0739 - val_accuracy: 0.9883\n",
      "Epoch 90/100\n",
      "13/13 [==============================] - 0s 6ms/step - loss: 0.0807 - accuracy: 0.9849 - val_loss: 0.0736 - val_accuracy: 0.9883\n",
      "Epoch 91/100\n",
      "13/13 [==============================] - 0s 5ms/step - loss: 0.0804 - accuracy: 0.9849 - val_loss: 0.0733 - val_accuracy: 0.9883\n",
      "Epoch 92/100\n",
      "13/13 [==============================] - 0s 5ms/step - loss: 0.0802 - accuracy: 0.9824 - val_loss: 0.0730 - val_accuracy: 0.9883\n",
      "Epoch 93/100\n",
      "13/13 [==============================] - 0s 5ms/step - loss: 0.0799 - accuracy: 0.9824 - val_loss: 0.0727 - val_accuracy: 0.9883\n",
      "Epoch 94/100\n",
      "13/13 [==============================] - 0s 6ms/step - loss: 0.0796 - accuracy: 0.9849 - val_loss: 0.0724 - val_accuracy: 0.9883\n",
      "Epoch 95/100\n",
      "13/13 [==============================] - 0s 6ms/step - loss: 0.0794 - accuracy: 0.9824 - val_loss: 0.0721 - val_accuracy: 0.9883\n",
      "Epoch 96/100\n",
      "13/13 [==============================] - 0s 5ms/step - loss: 0.0792 - accuracy: 0.9849 - val_loss: 0.0719 - val_accuracy: 0.9883\n",
      "Epoch 97/100\n",
      "13/13 [==============================] - 0s 5ms/step - loss: 0.0789 - accuracy: 0.9849 - val_loss: 0.0716 - val_accuracy: 0.9883\n",
      "Epoch 98/100\n",
      "13/13 [==============================] - 0s 6ms/step - loss: 0.0787 - accuracy: 0.9849 - val_loss: 0.0713 - val_accuracy: 0.9883\n",
      "Epoch 99/100\n",
      "13/13 [==============================] - 0s 5ms/step - loss: 0.0785 - accuracy: 0.9849 - val_loss: 0.0709 - val_accuracy: 0.9883\n",
      "Epoch 100/100\n",
      "13/13 [==============================] - 0s 5ms/step - loss: 0.0782 - accuracy: 0.9849 - val_loss: 0.0707 - val_accuracy: 0.9883\n"
     ]
    }
   ],
   "source": [
    "model.compile(optimizer='Adam',loss='binary_crossentropy',metrics=['accuracy'])\n",
    "f=model.fit(X_train,Y_train,validation_data=(X_test,Y_test),epochs=100)"
   ]
  },
  {
   "cell_type": "code",
   "execution_count": 24,
   "id": "45214e69",
   "metadata": {},
   "outputs": [
    {
     "name": "stdout",
     "output_type": "stream",
     "text": [
      "13/13 [==============================] - 0s 2ms/step - loss: 0.0781 - accuracy: 0.9849\n",
      "train score [0.07805132865905762, 0.9849246144294739]\n"
     ]
    }
   ],
   "source": [
    "print(\"train score\",model.evaluate(X_train,Y_train))"
   ]
  },
  {
   "cell_type": "code",
   "execution_count": 25,
   "id": "06e45921",
   "metadata": {},
   "outputs": [
    {
     "data": {
      "text/plain": [
       "<matplotlib.legend.Legend at 0x21e7db6a970>"
      ]
     },
     "execution_count": 25,
     "metadata": {},
     "output_type": "execute_result"
    },
    {
     "data": {
      "image/png": "[encoded data removed]",
      "text/plain": [
       "<Figure size 640x480 with 1 Axes>"
      ]
     },
     "metadata": {},
     "output_type": "display_data"
    }
   ],
   "source": [
    "import matplotlib.pyplot as plt\n",
    "plt.plot(f.history['loss'],label='loss')\n",
    "plt.plot(f.history['val_loss'],label='val loss')\n",
    "plt.legend()"
   ]
  },
  {
   "cell_type": "code",
   "execution_count": 27,
   "id": "cd7fc9a8",
   "metadata": {},
   "outputs": [
    {
     "data": {
      "text/plain": [
       "<matplotlib.legend.Legend at 0x21e000ce790>"
      ]
     },
     "execution_count": 27,
     "metadata": {},
     "output_type": "execute_result"
    },
    {
     "data": {
      "image/png": "[encoded data removed]",
      "text/plain": [
       "<Figure size 640x480 with 1 Axes>"
      ]
     },
     "metadata": {},
     "output_type": "display_data"
    }
   ],
   "source": [
    "plt.plot(f.history['accuracy'],label='accuracy')\n",
    "plt.plot(f.history['val_accuracy'],label='val accuracy')\n",
    "plt.legend()"
   ]
  },
  {
   "cell_type": "markdown",
   "id": "043bc364",
   "metadata": {},
   "source": [
    "Making Predictions"
   ]
  },
  {
   "cell_type": "code",
   "execution_count": 28,
   "id": "ac5105f6",
   "metadata": {},
   "outputs": [
    {
     "name": "stdout",
     "output_type": "stream",
     "text": [
      "6/6 [==============================] - 0s 2ms/step\n"
     ]
    }
   ],
   "source": [
    "pred = model.predict(X_test)"
   ]
  },
  {
   "cell_type": "code",
   "execution_count": 29,
   "id": "f966281c",
   "metadata": {},
   "outputs": [],
   "source": [
    "pred=np.round(pred).flatten()"
   ]
  },
  {
   "cell_type": "code",
   "execution_count": 30,
   "id": "300de7e3",
   "metadata": {
    "scrolled": false
   },
   "outputs": [
    {
     "data": {
      "text/plain": [
       "array([1., 0., 1., 0., 0., 1., 1., 0., 1., 1., 1., 1., 0., 1., 1., 1., 1.,\n",
       "       1., 0., 1., 0., 0., 1., 0., 0., 0., 1., 1., 1., 1., 1., 1., 1., 1.,\n",
       "       0., 1., 1., 1., 0., 1., 0., 0., 1., 1., 0., 1., 1., 0., 1., 1., 1.,\n",
       "       1., 0., 1., 1., 1., 0., 1., 1., 1., 1., 0., 1., 1., 1., 0., 1., 1.,\n",
       "       1., 0., 1., 0., 1., 0., 1., 0., 1., 1., 0., 0., 1., 0., 1., 1., 1.,\n",
       "       1., 1., 1., 1., 0., 1., 1., 1., 1., 0., 1., 1., 1., 0., 0., 0., 0.,\n",
       "       1., 1., 0., 0., 0., 0., 1., 1., 1., 1., 0., 1., 1., 0., 0., 1., 0.,\n",
       "       0., 1., 0., 1., 0., 0., 1., 1., 0., 0., 1., 1., 0., 0., 1., 0., 1.,\n",
       "       1., 1., 0., 1., 1., 0., 1., 1., 0., 1., 1., 0., 1., 1., 0., 1., 1.,\n",
       "       1., 1., 1., 1., 0., 0., 1., 1., 1., 0., 1., 1., 0., 0., 1., 1., 1.,\n",
       "       1.], dtype=float32)"
      ]
     },
     "execution_count": 30,
     "metadata": {},
     "output_type": "execute_result"
    }
   ],
   "source": [
    "pred"
   ]
  },
  {
   "cell_type": "code",
   "execution_count": 33,
   "id": "6ed44d33",
   "metadata": {
    "scrolled": true
   },
   "outputs": [
    {
     "name": "stdout",
     "output_type": "stream",
     "text": [
      "6/6 [==============================] - 0s 3ms/step - loss: 0.0707 - accuracy: 0.9883\n",
      "accuracy= [0.07073193788528442, 0.988304078578949]\n"
     ]
    }
   ],
   "source": [
    "print(\"accuracy=\",model.evaluate(X_test,Y_test))"
   ]
  },
  {
   "cell_type": "code",
   "execution_count": 34,
   "id": "88c86baf",
   "metadata": {},
   "outputs": [
    {
     "data": {
      "text/plain": [
       "98.83040935672514"
      ]
     },
     "execution_count": 34,
     "metadata": {},
     "output_type": "execute_result"
    }
   ],
   "source": [
    "#manually calculating accuracy\n",
    "np.mean(Y_test==pred)*100"
   ]
  },
  {
   "cell_type": "markdown",
   "id": "cea695d4",
   "metadata": {},
   "source": [
    "Save the model"
   ]
  },
  {
   "cell_type": "code",
   "execution_count": 35,
   "id": "4a39d4b2",
   "metadata": {},
   "outputs": [],
   "source": [
    "model.save(\"LinearClassification.h5\")"
   ]
  }
 ],
 "metadata": {
  "kernelspec": {
   "display_name": "Python 3 (ipykernel)",
   "language": "python",
   "name": "python3"
  },
  "language_info": {
   "codemirror_mode": {
    "name": "ipython",
    "version": 3
   },
   "file_extension": ".py",
   "mimetype": "text/x-python",
   "name": "python",
   "nbconvert_exporter": "python",
   "pygments_lexer": "ipython3",
   "version": "3.9.13"
  }
 },
 "nbformat": 4,
 "nbformat_minor": 5
}
