{
 "cells": [
  {
   "cell_type": "code",
   "execution_count": 31,
   "id": "81fe21b2",
   "metadata": {},
   "outputs": [],
   "source": [
    "import tensorflow as tf\n",
    "import numpy as np"
   ]
  },
  {
   "cell_type": "code",
   "execution_count": 3,
   "id": "970f7058",
   "metadata": {},
   "outputs": [
    {
     "data": {
      "text/plain": [
       "'2.9.1'"
      ]
     },
     "execution_count": 3,
     "metadata": {},
     "output_type": "execute_result"
    }
   ],
   "source": [
    "tf.__version__"
   ]
  },
  {
   "cell_type": "code",
   "execution_count": 4,
   "id": "a3dd38d6",
   "metadata": {},
   "outputs": [
    {
     "name": "stdout",
     "output_type": "stream",
     "text": [
      "3.9.13 (main, Oct 13 2022, 21:23:06) [MSC v.1916 64 bit (AMD64)]\n"
     ]
    }
   ],
   "source": [
    "import sys\n",
    "\n",
    "print(sys.version)"
   ]
  },
  {
   "cell_type": "markdown",
   "id": "c1d8268e",
   "metadata": {},
   "source": [
    "#load dataset"
   ]
  },
  {
   "cell_type": "code",
   "execution_count": 5,
   "id": "bda51bcd",
   "metadata": {},
   "outputs": [
    {
     "data": {
      "text/plain": [
       "'C:\\\\Users\\\\Lenovo\\\\anaconda3\\\\envs\\\\my-env\\\\python.exe'"
      ]
     },
     "execution_count": 5,
     "metadata": {},
     "output_type": "execute_result"
    }
   ],
   "source": [
    "sys.executable"
   ]
  },
  {
   "cell_type": "code",
   "execution_count": 6,
   "id": "bfc26bcb",
   "metadata": {
    "scrolled": true
   },
   "outputs": [
    {
     "name": "stdout",
     "output_type": "stream",
     "text": [
      "Name: scikit-learn\n",
      "Version: 1.1.3\n",
      "Summary: A set of python modules for machine learning and data mining\n",
      "Home-page: http://scikit-learn.org\n",
      "Author: \n",
      "Author-email: \n",
      "License: new BSD\n",
      "Location: c:\\users\\lenovo\\anaconda3\\envs\\my-env\\lib\\site-packages\n",
      "Requires: joblib, numpy, scipy, threadpoolctl\n",
      "Required-by: \n"
     ]
    }
   ],
   "source": [
    "!pip show scikit-learn"
   ]
  },
  {
   "cell_type": "raw",
   "id": "6033ee4a",
   "metadata": {},
   "source": [
    "import data"
   ]
  },
  {
   "cell_type": "code",
   "execution_count": 7,
   "id": "ae04d350",
   "metadata": {},
   "outputs": [],
   "source": [
    "import sklearn as sk"
   ]
  },
  {
   "cell_type": "code",
   "execution_count": 8,
   "id": "e1d36329",
   "metadata": {},
   "outputs": [
    {
     "data": {
      "text/plain": [
       "'1.1.3'"
      ]
     },
     "execution_count": 8,
     "metadata": {},
     "output_type": "execute_result"
    }
   ],
   "source": [
    "sk.__version__"
   ]
  },
  {
   "cell_type": "code",
   "execution_count": 9,
   "id": "1038d883",
   "metadata": {},
   "outputs": [],
   "source": [
    "from sklearn.datasets import load_breast_cancer"
   ]
  },
  {
   "cell_type": "code",
   "execution_count": 10,
   "id": "c004835b",
   "metadata": {},
   "outputs": [],
   "source": [
    "data= load_breast_cancer()"
   ]
  },
  {
   "cell_type": "code",
   "execution_count": 11,
   "id": "6dfffa3a",
   "metadata": {},
   "outputs": [
    {
     "data": {
      "text/plain": [
       "sklearn.utils._bunch.Bunch"
      ]
     },
     "execution_count": 11,
     "metadata": {},
     "output_type": "execute_result"
    }
   ],
   "source": [
    "#check the type of data\n",
    "type(data)"
   ]
  },
  {
   "cell_type": "code",
   "execution_count": 12,
   "id": "50a4e40d",
   "metadata": {},
   "outputs": [
    {
     "data": {
      "text/plain": [
       "dict_keys(['data', 'target', 'frame', 'target_names', 'DESCR', 'feature_names', 'filename', 'data_module'])"
      ]
     },
     "execution_count": 12,
     "metadata": {},
     "output_type": "execute_result"
    }
   ],
   "source": [
    "#this is a bunch object means it acts like a dictionary where keys can be treated like attributes\n",
    "data.keys()"
   ]
  },
  {
   "cell_type": "code",
   "execution_count": 13,
   "id": "d6d52d2b",
   "metadata": {},
   "outputs": [
    {
     "data": {
      "text/plain": [
       "(569, 30)"
      ]
     },
     "execution_count": 13,
     "metadata": {},
     "output_type": "execute_result"
    }
   ],
   "source": [
    "#data refers to inputs \n",
    "data.data.shape\n",
    "#569 samples 30 features"
   ]
  },
  {
   "cell_type": "code",
   "execution_count": 14,
   "id": "e9813b19",
   "metadata": {},
   "outputs": [
    {
     "data": {
      "text/plain": [
       "array([0, 0, 0, 0, 0, 0, 0, 0, 0, 0, 0, 0, 0, 0, 0, 0, 0, 0, 0, 1, 1, 1,\n",
       "       0, 0, 0, 0, 0, 0, 0, 0, 0, 0, 0, 0, 0, 0, 0, 1, 0, 0, 0, 0, 0, 0,\n",
       "       0, 0, 1, 0, 1, 1, 1, 1, 1, 0, 0, 1, 0, 0, 1, 1, 1, 1, 0, 1, 0, 0,\n",
       "       1, 1, 1, 1, 0, 1, 0, 0, 1, 0, 1, 0, 0, 1, 1, 1, 0, 0, 1, 0, 0, 0,\n",
       "       1, 1, 1, 0, 1, 1, 0, 0, 1, 1, 1, 0, 0, 1, 1, 1, 1, 0, 1, 1, 0, 1,\n",
       "       1, 1, 1, 1, 1, 1, 1, 0, 0, 0, 1, 0, 0, 1, 1, 1, 0, 0, 1, 0, 1, 0,\n",
       "       0, 1, 0, 0, 1, 1, 0, 1, 1, 0, 1, 1, 1, 1, 0, 1, 1, 1, 1, 1, 1, 1,\n",
       "       1, 1, 0, 1, 1, 1, 1, 0, 0, 1, 0, 1, 1, 0, 0, 1, 1, 0, 0, 1, 1, 1,\n",
       "       1, 0, 1, 1, 0, 0, 0, 1, 0, 1, 0, 1, 1, 1, 0, 1, 1, 0, 0, 1, 0, 0,\n",
       "       0, 0, 1, 0, 0, 0, 1, 0, 1, 0, 1, 1, 0, 1, 0, 0, 0, 0, 1, 1, 0, 0,\n",
       "       1, 1, 1, 0, 1, 1, 1, 1, 1, 0, 0, 1, 1, 0, 1, 1, 0, 0, 1, 0, 1, 1,\n",
       "       1, 1, 0, 1, 1, 1, 1, 1, 0, 1, 0, 0, 0, 0, 0, 0, 0, 0, 0, 0, 0, 0,\n",
       "       0, 0, 1, 1, 1, 1, 1, 1, 0, 1, 0, 1, 1, 0, 1, 1, 0, 1, 0, 0, 1, 1,\n",
       "       1, 1, 1, 1, 1, 1, 1, 1, 1, 1, 1, 0, 1, 1, 0, 1, 0, 1, 1, 1, 1, 1,\n",
       "       1, 1, 1, 1, 1, 1, 1, 1, 1, 0, 1, 1, 1, 0, 1, 0, 1, 1, 1, 1, 0, 0,\n",
       "       0, 1, 1, 1, 1, 0, 1, 0, 1, 0, 1, 1, 1, 0, 1, 1, 1, 1, 1, 1, 1, 0,\n",
       "       0, 0, 1, 1, 1, 1, 1, 1, 1, 1, 1, 1, 1, 0, 0, 1, 0, 0, 0, 1, 0, 0,\n",
       "       1, 1, 1, 1, 1, 0, 1, 1, 1, 1, 1, 0, 1, 1, 1, 0, 1, 1, 0, 0, 1, 1,\n",
       "       1, 1, 1, 1, 0, 1, 1, 1, 1, 1, 1, 1, 0, 1, 1, 1, 1, 1, 0, 1, 1, 0,\n",
       "       1, 1, 1, 1, 1, 1, 1, 1, 1, 1, 1, 1, 0, 1, 0, 0, 1, 0, 1, 1, 1, 1,\n",
       "       1, 0, 1, 1, 0, 1, 0, 1, 1, 0, 1, 0, 1, 1, 1, 1, 1, 1, 1, 1, 0, 0,\n",
       "       1, 1, 1, 1, 1, 1, 0, 1, 1, 1, 1, 1, 1, 1, 1, 1, 1, 0, 1, 1, 1, 1,\n",
       "       1, 1, 1, 0, 1, 0, 1, 1, 0, 1, 1, 1, 1, 1, 0, 0, 1, 0, 1, 0, 1, 1,\n",
       "       1, 1, 1, 0, 1, 1, 0, 1, 0, 1, 0, 0, 1, 1, 1, 0, 1, 1, 1, 1, 1, 1,\n",
       "       1, 1, 1, 1, 1, 0, 1, 0, 0, 1, 1, 1, 1, 1, 1, 1, 1, 1, 1, 1, 1, 1,\n",
       "       1, 1, 1, 1, 1, 1, 1, 1, 1, 1, 1, 1, 0, 0, 0, 0, 0, 0, 1])"
      ]
     },
     "execution_count": 14,
     "metadata": {},
     "output_type": "execute_result"
    }
   ],
   "source": [
    "data.target"
   ]
  },
  {
   "cell_type": "code",
   "execution_count": 15,
   "id": "c3128857",
   "metadata": {},
   "outputs": [
    {
     "data": {
      "text/plain": [
       "(569,)"
      ]
     },
     "execution_count": 15,
     "metadata": {},
     "output_type": "execute_result"
    }
   ],
   "source": [
    "data.target.shape\n",
    "#1 dim array of 569 length"
   ]
  },
  {
   "cell_type": "code",
   "execution_count": 16,
   "id": "8dc02852",
   "metadata": {},
   "outputs": [
    {
     "data": {
      "text/plain": [
       "array(['mean radius', 'mean texture', 'mean perimeter', 'mean area',\n",
       "       'mean smoothness', 'mean compactness', 'mean concavity',\n",
       "       'mean concave points', 'mean symmetry', 'mean fractal dimension',\n",
       "       'radius error', 'texture error', 'perimeter error', 'area error',\n",
       "       'smoothness error', 'compactness error', 'concavity error',\n",
       "       'concave points error', 'symmetry error',\n",
       "       'fractal dimension error', 'worst radius', 'worst texture',\n",
       "       'worst perimeter', 'worst area', 'worst smoothness',\n",
       "       'worst compactness', 'worst concavity', 'worst concave points',\n",
       "       'worst symmetry', 'worst fractal dimension'], dtype='<U23')"
      ]
     },
     "execution_count": 16,
     "metadata": {},
     "output_type": "execute_result"
    }
   ],
   "source": [
    "#access the meaning of each feature\n",
    "data.feature_names"
   ]
  },
  {
   "cell_type": "code",
   "execution_count": 37,
   "id": "6a2fec47",
   "metadata": {},
   "outputs": [],
   "source": [
    "X=data.data\n",
    "Y=data.target"
   ]
  },
  {
   "cell_type": "code",
   "execution_count": 17,
   "id": "928e7b54",
   "metadata": {},
   "outputs": [],
   "source": [
    "#split data into test and train\n",
    "from sklearn.model_selection import train_test_split \n",
    "X_train,X_test,Y_train,Y_test = train_test_split(data.data,data.target,test_size=0.30)"
   ]
  },
  {
   "cell_type": "code",
   "execution_count": 18,
   "id": "8d4231a9",
   "metadata": {},
   "outputs": [
    {
     "data": {
      "text/plain": [
       "(398, 30)"
      ]
     },
     "execution_count": 18,
     "metadata": {},
     "output_type": "execute_result"
    }
   ],
   "source": [
    "n,d=X_train.shape\n",
    "n,d"
   ]
  },
  {
   "cell_type": "code",
   "execution_count": 19,
   "id": "8c415d99",
   "metadata": {},
   "outputs": [
    {
     "data": {
      "text/plain": [
       "(398,)"
      ]
     },
     "execution_count": 19,
     "metadata": {},
     "output_type": "execute_result"
    }
   ],
   "source": [
    "Y_train.shape"
   ]
  },
  {
   "cell_type": "code",
   "execution_count": 20,
   "id": "c8538818",
   "metadata": {},
   "outputs": [],
   "source": [
    "#Scale the data\n",
    "from sklearn.preprocessing import StandardScaler\n",
    "scaler = StandardScaler()\n",
    "X_train = scaler.fit_transform(X_train)\n",
    "X_test=scaler.transform(X_test)"
   ]
  },
  {
   "cell_type": "code",
   "execution_count": 21,
   "id": "0618d466",
   "metadata": {},
   "outputs": [
    {
     "name": "stdout",
     "output_type": "stream",
     "text": [
      "[[-0.45279263 -0.8336995  -0.36271119 ...  0.94996904  1.83058934\n",
      "   2.19097737]\n",
      " [ 0.13646438 -1.94757579  0.12393812 ...  0.14781966  0.02448669\n",
      "  -0.2138555 ]\n",
      " [-0.28607601 -0.20381519 -0.36104885 ... -0.96238592 -1.46192261\n",
      "  -1.21017439]\n",
      " ...\n",
      " [-0.72873737 -1.09074787 -0.71928259 ... -0.58938646  0.11017769\n",
      "   0.42287743]\n",
      " [-1.23751049 -0.25013021 -1.27034748 ... -1.73568877 -1.59045911\n",
      "  -0.99865323]\n",
      " [-0.85233762 -1.03516985 -0.87221764 ... -0.87862301 -0.46823657\n",
      "   0.41094547]]\n",
      "(171, 30)\n"
     ]
    }
   ],
   "source": [
    "print(X_test)\n",
    "print(X_test.shape)"
   ]
  },
  {
   "cell_type": "code",
   "execution_count": 22,
   "id": "51d18960",
   "metadata": {},
   "outputs": [],
   "source": [
    "#build the model\n",
    "from tensorflow.keras.models import Sequential\n",
    "from tensorflow.keras.layers import Dense\n",
    "model=Sequential()\n",
    "model.add(Dense(1,input_shape=(d,),activation='sigmoid'))"
   ]
  },
  {
   "cell_type": "code",
   "execution_count": 23,
   "id": "8aa77e2e",
   "metadata": {
    "scrolled": true
   },
   "outputs": [
    {
     "name": "stdout",
     "output_type": "stream",
     "text": [
      "Epoch 1/100\n",
      "13/13 [==============================] - 2s 38ms/step - loss: 0.4925 - accuracy: 0.7588 - val_loss: 0.4503 - val_accuracy: 0.8421\n",
      "Epoch 2/100\n",
      "13/13 [==============================] - 0s 6ms/step - loss: 0.4418 - accuracy: 0.8141 - val_loss: 0.4058 - val_accuracy: 0.8596\n",
      "Epoch 3/100\n",
      "13/13 [==============================] - 0s 5ms/step - loss: 0.3997 - accuracy: 0.8467 - val_loss: 0.3695 - val_accuracy: 0.8889\n",
      "Epoch 4/100\n",
      "13/13 [==============================] - 0s 5ms/step - loss: 0.3660 - accuracy: 0.8794 - val_loss: 0.3398 - val_accuracy: 0.8947\n",
      "Epoch 5/100\n",
      "13/13 [==============================] - 0s 5ms/step - loss: 0.3385 - accuracy: 0.8869 - val_loss: 0.3149 - val_accuracy: 0.9123\n",
      "Epoch 6/100\n",
      "13/13 [==============================] - 0s 6ms/step - loss: 0.3148 - accuracy: 0.8995 - val_loss: 0.2949 - val_accuracy: 0.9357\n",
      "Epoch 7/100\n",
      "13/13 [==============================] - 0s 5ms/step - loss: 0.2954 - accuracy: 0.9070 - val_loss: 0.2777 - val_accuracy: 0.9415\n",
      "Epoch 8/100\n",
      "13/13 [==============================] - 0s 5ms/step - loss: 0.2787 - accuracy: 0.9146 - val_loss: 0.2629 - val_accuracy: 0.9474\n",
      "Epoch 9/100\n",
      "13/13 [==============================] - 0s 5ms/step - loss: 0.2642 - accuracy: 0.9171 - val_loss: 0.2502 - val_accuracy: 0.9591\n",
      "Epoch 10/100\n",
      "13/13 [==============================] - 0s 6ms/step - loss: 0.2517 - accuracy: 0.9196 - val_loss: 0.2391 - val_accuracy: 0.9591\n",
      "Epoch 11/100\n",
      "13/13 [==============================] - 0s 6ms/step - loss: 0.2407 - accuracy: 0.9246 - val_loss: 0.2294 - val_accuracy: 0.9591\n",
      "Epoch 12/100\n",
      "13/13 [==============================] - 0s 5ms/step - loss: 0.2307 - accuracy: 0.9246 - val_loss: 0.2209 - val_accuracy: 0.9591\n",
      "Epoch 13/100\n",
      "13/13 [==============================] - 0s 5ms/step - loss: 0.2221 - accuracy: 0.9271 - val_loss: 0.2132 - val_accuracy: 0.9591\n",
      "Epoch 14/100\n",
      "13/13 [==============================] - 0s 6ms/step - loss: 0.2141 - accuracy: 0.9322 - val_loss: 0.2064 - val_accuracy: 0.9591\n",
      "Epoch 15/100\n",
      "13/13 [==============================] - 0s 5ms/step - loss: 0.2068 - accuracy: 0.9347 - val_loss: 0.2003 - val_accuracy: 0.9591\n",
      "Epoch 16/100\n",
      "13/13 [==============================] - 0s 5ms/step - loss: 0.2002 - accuracy: 0.9347 - val_loss: 0.1946 - val_accuracy: 0.9591\n",
      "Epoch 17/100\n",
      "13/13 [==============================] - 0s 5ms/step - loss: 0.1942 - accuracy: 0.9372 - val_loss: 0.1894 - val_accuracy: 0.9591\n",
      "Epoch 18/100\n",
      "13/13 [==============================] - 0s 5ms/step - loss: 0.1884 - accuracy: 0.9497 - val_loss: 0.1847 - val_accuracy: 0.9591\n",
      "Epoch 19/100\n",
      "13/13 [==============================] - 0s 5ms/step - loss: 0.1834 - accuracy: 0.9497 - val_loss: 0.1802 - val_accuracy: 0.9591\n",
      "Epoch 20/100\n",
      "13/13 [==============================] - 0s 6ms/step - loss: 0.1785 - accuracy: 0.9497 - val_loss: 0.1762 - val_accuracy: 0.9591\n",
      "Epoch 21/100\n",
      "13/13 [==============================] - 0s 5ms/step - loss: 0.1739 - accuracy: 0.9497 - val_loss: 0.1723 - val_accuracy: 0.9591\n",
      "Epoch 22/100\n",
      "13/13 [==============================] - 0s 5ms/step - loss: 0.1696 - accuracy: 0.9472 - val_loss: 0.1688 - val_accuracy: 0.9591\n",
      "Epoch 23/100\n",
      "13/13 [==============================] - 0s 5ms/step - loss: 0.1657 - accuracy: 0.9497 - val_loss: 0.1655 - val_accuracy: 0.9591\n",
      "Epoch 24/100\n",
      "13/13 [==============================] - 0s 5ms/step - loss: 0.1621 - accuracy: 0.9523 - val_loss: 0.1625 - val_accuracy: 0.9591\n",
      "Epoch 25/100\n",
      "13/13 [==============================] - 0s 6ms/step - loss: 0.1587 - accuracy: 0.9523 - val_loss: 0.1596 - val_accuracy: 0.9649\n",
      "Epoch 26/100\n",
      "13/13 [==============================] - 0s 6ms/step - loss: 0.1554 - accuracy: 0.9548 - val_loss: 0.1570 - val_accuracy: 0.9649\n",
      "Epoch 27/100\n",
      "13/13 [==============================] - 0s 6ms/step - loss: 0.1524 - accuracy: 0.9573 - val_loss: 0.1545 - val_accuracy: 0.9649\n",
      "Epoch 28/100\n",
      "13/13 [==============================] - 0s 6ms/step - loss: 0.1497 - accuracy: 0.9573 - val_loss: 0.1521 - val_accuracy: 0.9649\n",
      "Epoch 29/100\n",
      "13/13 [==============================] - 0s 7ms/step - loss: 0.1468 - accuracy: 0.9573 - val_loss: 0.1499 - val_accuracy: 0.9649\n",
      "Epoch 30/100\n",
      "13/13 [==============================] - 0s 6ms/step - loss: 0.1443 - accuracy: 0.9598 - val_loss: 0.1477 - val_accuracy: 0.9649\n",
      "Epoch 31/100\n",
      "13/13 [==============================] - 0s 5ms/step - loss: 0.1417 - accuracy: 0.9648 - val_loss: 0.1458 - val_accuracy: 0.9649\n",
      "Epoch 32/100\n",
      "13/13 [==============================] - 0s 6ms/step - loss: 0.1395 - accuracy: 0.9648 - val_loss: 0.1438 - val_accuracy: 0.9649\n",
      "Epoch 33/100\n",
      "13/13 [==============================] - 0s 5ms/step - loss: 0.1372 - accuracy: 0.9648 - val_loss: 0.1420 - val_accuracy: 0.9649\n",
      "Epoch 34/100\n",
      "13/13 [==============================] - 0s 5ms/step - loss: 0.1350 - accuracy: 0.9648 - val_loss: 0.1403 - val_accuracy: 0.9649\n",
      "Epoch 35/100\n",
      "13/13 [==============================] - 0s 6ms/step - loss: 0.1331 - accuracy: 0.9673 - val_loss: 0.1387 - val_accuracy: 0.9649\n",
      "Epoch 36/100\n",
      "13/13 [==============================] - 0s 6ms/step - loss: 0.1311 - accuracy: 0.9673 - val_loss: 0.1372 - val_accuracy: 0.9649\n",
      "Epoch 37/100\n",
      "13/13 [==============================] - 0s 5ms/step - loss: 0.1293 - accuracy: 0.9673 - val_loss: 0.1356 - val_accuracy: 0.9649\n",
      "Epoch 38/100\n",
      "13/13 [==============================] - 0s 5ms/step - loss: 0.1275 - accuracy: 0.9673 - val_loss: 0.1342 - val_accuracy: 0.9649\n",
      "Epoch 39/100\n",
      "13/13 [==============================] - 0s 6ms/step - loss: 0.1258 - accuracy: 0.9698 - val_loss: 0.1328 - val_accuracy: 0.9708\n",
      "Epoch 40/100\n",
      "13/13 [==============================] - 0s 5ms/step - loss: 0.1242 - accuracy: 0.9698 - val_loss: 0.1315 - val_accuracy: 0.9708\n",
      "Epoch 41/100\n",
      "13/13 [==============================] - 0s 5ms/step - loss: 0.1226 - accuracy: 0.9698 - val_loss: 0.1303 - val_accuracy: 0.9708\n",
      "Epoch 42/100\n",
      "13/13 [==============================] - 0s 6ms/step - loss: 0.1211 - accuracy: 0.9698 - val_loss: 0.1290 - val_accuracy: 0.9708\n",
      "Epoch 43/100\n",
      "13/13 [==============================] - 0s 5ms/step - loss: 0.1196 - accuracy: 0.9698 - val_loss: 0.1279 - val_accuracy: 0.9708\n",
      "Epoch 44/100\n",
      "13/13 [==============================] - 0s 5ms/step - loss: 0.1183 - accuracy: 0.9698 - val_loss: 0.1267 - val_accuracy: 0.9708\n",
      "Epoch 45/100\n",
      "13/13 [==============================] - 0s 5ms/step - loss: 0.1169 - accuracy: 0.9698 - val_loss: 0.1256 - val_accuracy: 0.9708\n",
      "Epoch 46/100\n",
      "13/13 [==============================] - 0s 7ms/step - loss: 0.1156 - accuracy: 0.9698 - val_loss: 0.1245 - val_accuracy: 0.9708\n",
      "Epoch 47/100\n",
      "13/13 [==============================] - 0s 5ms/step - loss: 0.1143 - accuracy: 0.9698 - val_loss: 0.1235 - val_accuracy: 0.9708\n",
      "Epoch 48/100\n",
      "13/13 [==============================] - 0s 5ms/step - loss: 0.1130 - accuracy: 0.9698 - val_loss: 0.1225 - val_accuracy: 0.9708\n",
      "Epoch 49/100\n",
      "13/13 [==============================] - 0s 8ms/step - loss: 0.1118 - accuracy: 0.9698 - val_loss: 0.1216 - val_accuracy: 0.9708\n",
      "Epoch 50/100\n",
      "13/13 [==============================] - 0s 8ms/step - loss: 0.1107 - accuracy: 0.9698 - val_loss: 0.1206 - val_accuracy: 0.9708\n",
      "Epoch 51/100\n",
      "13/13 [==============================] - 0s 9ms/step - loss: 0.1096 - accuracy: 0.9698 - val_loss: 0.1197 - val_accuracy: 0.9708\n",
      "Epoch 52/100\n",
      "13/13 [==============================] - 0s 7ms/step - loss: 0.1085 - accuracy: 0.9698 - val_loss: 0.1189 - val_accuracy: 0.9708\n",
      "Epoch 53/100\n",
      "13/13 [==============================] - 0s 8ms/step - loss: 0.1074 - accuracy: 0.9724 - val_loss: 0.1181 - val_accuracy: 0.9708\n",
      "Epoch 54/100\n",
      "13/13 [==============================] - 0s 12ms/step - loss: 0.1064 - accuracy: 0.9724 - val_loss: 0.1172 - val_accuracy: 0.9708\n",
      "Epoch 55/100\n",
      "13/13 [==============================] - 0s 10ms/step - loss: 0.1054 - accuracy: 0.9724 - val_loss: 0.1165 - val_accuracy: 0.9708\n",
      "Epoch 56/100\n",
      "13/13 [==============================] - 0s 11ms/step - loss: 0.1044 - accuracy: 0.9724 - val_loss: 0.1157 - val_accuracy: 0.9708\n",
      "Epoch 57/100\n",
      "13/13 [==============================] - 0s 12ms/step - loss: 0.1035 - accuracy: 0.9724 - val_loss: 0.1150 - val_accuracy: 0.9708\n",
      "Epoch 58/100\n",
      "13/13 [==============================] - 0s 14ms/step - loss: 0.1026 - accuracy: 0.9724 - val_loss: 0.1143 - val_accuracy: 0.9708\n"
     ]
    },
    {
     "name": "stdout",
     "output_type": "stream",
     "text": [
      "Epoch 59/100\n",
      "13/13 [==============================] - 0s 11ms/step - loss: 0.1017 - accuracy: 0.9724 - val_loss: 0.1137 - val_accuracy: 0.9708\n",
      "Epoch 60/100\n",
      "13/13 [==============================] - 0s 8ms/step - loss: 0.1008 - accuracy: 0.9749 - val_loss: 0.1130 - val_accuracy: 0.9766\n",
      "Epoch 61/100\n",
      "13/13 [==============================] - 0s 7ms/step - loss: 0.1000 - accuracy: 0.9749 - val_loss: 0.1124 - val_accuracy: 0.9766\n",
      "Epoch 62/100\n",
      "13/13 [==============================] - 0s 7ms/step - loss: 0.0992 - accuracy: 0.9749 - val_loss: 0.1118 - val_accuracy: 0.9766\n",
      "Epoch 63/100\n",
      "13/13 [==============================] - 0s 7ms/step - loss: 0.0984 - accuracy: 0.9749 - val_loss: 0.1111 - val_accuracy: 0.9766\n",
      "Epoch 64/100\n",
      "13/13 [==============================] - 0s 7ms/step - loss: 0.0976 - accuracy: 0.9749 - val_loss: 0.1106 - val_accuracy: 0.9766\n",
      "Epoch 65/100\n",
      "13/13 [==============================] - 0s 7ms/step - loss: 0.0969 - accuracy: 0.9749 - val_loss: 0.1100 - val_accuracy: 0.9766\n",
      "Epoch 66/100\n",
      "13/13 [==============================] - 0s 7ms/step - loss: 0.0961 - accuracy: 0.9749 - val_loss: 0.1095 - val_accuracy: 0.9766\n",
      "Epoch 67/100\n",
      "13/13 [==============================] - 0s 8ms/step - loss: 0.0954 - accuracy: 0.9749 - val_loss: 0.1089 - val_accuracy: 0.9766\n",
      "Epoch 68/100\n",
      "13/13 [==============================] - 0s 7ms/step - loss: 0.0947 - accuracy: 0.9749 - val_loss: 0.1083 - val_accuracy: 0.9766\n",
      "Epoch 69/100\n",
      "13/13 [==============================] - 0s 7ms/step - loss: 0.0941 - accuracy: 0.9749 - val_loss: 0.1078 - val_accuracy: 0.9766\n",
      "Epoch 70/100\n",
      "13/13 [==============================] - 0s 7ms/step - loss: 0.0934 - accuracy: 0.9749 - val_loss: 0.1072 - val_accuracy: 0.9766\n",
      "Epoch 71/100\n",
      "13/13 [==============================] - 0s 7ms/step - loss: 0.0927 - accuracy: 0.9749 - val_loss: 0.1067 - val_accuracy: 0.9766\n",
      "Epoch 72/100\n",
      "13/13 [==============================] - 0s 6ms/step - loss: 0.0920 - accuracy: 0.9749 - val_loss: 0.1062 - val_accuracy: 0.9766\n",
      "Epoch 73/100\n",
      "13/13 [==============================] - 0s 6ms/step - loss: 0.0914 - accuracy: 0.9749 - val_loss: 0.1058 - val_accuracy: 0.9766\n",
      "Epoch 74/100\n",
      "13/13 [==============================] - 0s 7ms/step - loss: 0.0908 - accuracy: 0.9749 - val_loss: 0.1053 - val_accuracy: 0.9766\n",
      "Epoch 75/100\n",
      "13/13 [==============================] - 0s 6ms/step - loss: 0.0902 - accuracy: 0.9749 - val_loss: 0.1048 - val_accuracy: 0.9766\n",
      "Epoch 76/100\n",
      "13/13 [==============================] - 0s 7ms/step - loss: 0.0896 - accuracy: 0.9749 - val_loss: 0.1044 - val_accuracy: 0.9766\n",
      "Epoch 77/100\n",
      "13/13 [==============================] - 0s 7ms/step - loss: 0.0890 - accuracy: 0.9774 - val_loss: 0.1039 - val_accuracy: 0.9766\n",
      "Epoch 78/100\n",
      "13/13 [==============================] - 0s 7ms/step - loss: 0.0884 - accuracy: 0.9774 - val_loss: 0.1034 - val_accuracy: 0.9766\n",
      "Epoch 79/100\n",
      "13/13 [==============================] - 0s 9ms/step - loss: 0.0879 - accuracy: 0.9799 - val_loss: 0.1031 - val_accuracy: 0.9766\n",
      "Epoch 80/100\n",
      "13/13 [==============================] - 0s 7ms/step - loss: 0.0874 - accuracy: 0.9799 - val_loss: 0.1027 - val_accuracy: 0.9766\n",
      "Epoch 81/100\n",
      "13/13 [==============================] - 0s 8ms/step - loss: 0.0869 - accuracy: 0.9799 - val_loss: 0.1023 - val_accuracy: 0.9766\n",
      "Epoch 82/100\n",
      "13/13 [==============================] - 0s 7ms/step - loss: 0.0863 - accuracy: 0.9799 - val_loss: 0.1019 - val_accuracy: 0.9766\n",
      "Epoch 83/100\n",
      "13/13 [==============================] - 0s 7ms/step - loss: 0.0858 - accuracy: 0.9799 - val_loss: 0.1015 - val_accuracy: 0.9766\n",
      "Epoch 84/100\n",
      "13/13 [==============================] - 0s 8ms/step - loss: 0.0853 - accuracy: 0.9799 - val_loss: 0.1012 - val_accuracy: 0.9766\n",
      "Epoch 85/100\n",
      "13/13 [==============================] - 0s 8ms/step - loss: 0.0849 - accuracy: 0.9799 - val_loss: 0.1009 - val_accuracy: 0.9766\n",
      "Epoch 86/100\n",
      "13/13 [==============================] - 0s 9ms/step - loss: 0.0844 - accuracy: 0.9799 - val_loss: 0.1005 - val_accuracy: 0.9766\n",
      "Epoch 87/100\n",
      "13/13 [==============================] - 0s 7ms/step - loss: 0.0839 - accuracy: 0.9799 - val_loss: 0.1002 - val_accuracy: 0.9766\n",
      "Epoch 88/100\n",
      "13/13 [==============================] - 0s 7ms/step - loss: 0.0835 - accuracy: 0.9799 - val_loss: 0.0998 - val_accuracy: 0.9766\n",
      "Epoch 89/100\n",
      "13/13 [==============================] - 0s 8ms/step - loss: 0.0830 - accuracy: 0.9799 - val_loss: 0.0995 - val_accuracy: 0.9766\n",
      "Epoch 90/100\n",
      "13/13 [==============================] - 0s 7ms/step - loss: 0.0825 - accuracy: 0.9799 - val_loss: 0.0991 - val_accuracy: 0.9766\n",
      "Epoch 91/100\n",
      "13/13 [==============================] - 0s 7ms/step - loss: 0.0821 - accuracy: 0.9799 - val_loss: 0.0988 - val_accuracy: 0.9766\n",
      "Epoch 92/100\n",
      "13/13 [==============================] - 0s 7ms/step - loss: 0.0817 - accuracy: 0.9799 - val_loss: 0.0985 - val_accuracy: 0.9766\n",
      "Epoch 93/100\n",
      "13/13 [==============================] - 0s 7ms/step - loss: 0.0813 - accuracy: 0.9799 - val_loss: 0.0982 - val_accuracy: 0.9766\n",
      "Epoch 94/100\n",
      "13/13 [==============================] - 0s 7ms/step - loss: 0.0809 - accuracy: 0.9799 - val_loss: 0.0979 - val_accuracy: 0.9766\n",
      "Epoch 95/100\n",
      "13/13 [==============================] - 0s 7ms/step - loss: 0.0805 - accuracy: 0.9799 - val_loss: 0.0976 - val_accuracy: 0.9766\n",
      "Epoch 96/100\n",
      "13/13 [==============================] - 0s 7ms/step - loss: 0.0801 - accuracy: 0.9799 - val_loss: 0.0973 - val_accuracy: 0.9766\n",
      "Epoch 97/100\n",
      "13/13 [==============================] - 0s 7ms/step - loss: 0.0797 - accuracy: 0.9799 - val_loss: 0.0971 - val_accuracy: 0.9766\n",
      "Epoch 98/100\n",
      "13/13 [==============================] - 0s 7ms/step - loss: 0.0793 - accuracy: 0.9799 - val_loss: 0.0968 - val_accuracy: 0.9766\n",
      "Epoch 99/100\n",
      "13/13 [==============================] - 0s 6ms/step - loss: 0.0789 - accuracy: 0.9799 - val_loss: 0.0966 - val_accuracy: 0.9766\n",
      "Epoch 100/100\n",
      "13/13 [==============================] - 0s 5ms/step - loss: 0.0785 - accuracy: 0.9799 - val_loss: 0.0963 - val_accuracy: 0.9766\n"
     ]
    }
   ],
   "source": [
    "model.compile(optimizer='Adam',loss='binary_crossentropy',metrics=['accuracy'])\n",
    "f=model.fit(X_train,Y_train,validation_data=(X_test,Y_test),epochs=100)"
   ]
  },
  {
   "cell_type": "code",
   "execution_count": 24,
   "id": "45214e69",
   "metadata": {},
   "outputs": [
    {
     "name": "stdout",
     "output_type": "stream",
     "text": [
      "13/13 [==============================] - 0s 2ms/step - loss: 0.0783 - accuracy: 0.9799\n",
      "train score [0.07829531282186508, 0.979899525642395]\n"
     ]
    }
   ],
   "source": [
    "print(\"train score\",model.evaluate(X_train,Y_train))"
   ]
  },
  {
   "cell_type": "code",
   "execution_count": 25,
   "id": "f10b9027",
   "metadata": {},
   "outputs": [
    {
     "name": "stdout",
     "output_type": "stream",
     "text": [
      "6/6 [==============================] - 0s 2ms/step - loss: 0.0963 - accuracy: 0.9766\n",
      "validation score [0.09633716940879822, 0.9766082167625427]\n"
     ]
    }
   ],
   "source": [
    "print(\"validation score\",model.evaluate(X_test,Y_test))"
   ]
  },
  {
   "cell_type": "code",
   "execution_count": 26,
   "id": "06e45921",
   "metadata": {},
   "outputs": [
    {
     "data": {
      "text/plain": [
       "<matplotlib.legend.Legend at 0x24cc7d1adc0>"
      ]
     },
     "execution_count": 26,
     "metadata": {},
     "output_type": "execute_result"
    },
    {
     "data": {
      "image/png": "[encoded data removed]",
      "text/plain": [
       "<Figure size 640x480 with 1 Axes>"
      ]
     },
     "metadata": {},
     "output_type": "display_data"
    }
   ],
   "source": [
    "import matplotlib.pyplot as plt\n",
    "plt.plot(f.history['loss'],label='loss')\n",
    "plt.plot(f.history['val_loss'],label='val loss')\n",
    "plt.legend()"
   ]
  },
  {
   "cell_type": "code",
   "execution_count": 27,
   "id": "cd7fc9a8",
   "metadata": {},
   "outputs": [
    {
     "data": {
      "text/plain": [
       "<matplotlib.legend.Legend at 0x24cc5fab9d0>"
      ]
     },
     "execution_count": 27,
     "metadata": {},
     "output_type": "execute_result"
    },
    {
     "data": {
      "image/png": "[encoded data removed]",
      "text/plain": [
       "<Figure size 640x480 with 1 Axes>"
      ]
     },
     "metadata": {},
     "output_type": "display_data"
    }
   ],
   "source": [
    "plt.plot(f.history['accuracy'],label='accuracy')\n",
    "plt.plot(f.history['val_accuracy'],label='val accuracy')\n",
    "plt.legend()"
   ]
  },
  {
   "cell_type": "markdown",
   "id": "043bc364",
   "metadata": {},
   "source": [
    "Making Predictions"
   ]
  },
  {
   "cell_type": "code",
   "execution_count": 28,
   "id": "ac5105f6",
   "metadata": {},
   "outputs": [
    {
     "name": "stdout",
     "output_type": "stream",
     "text": [
      "6/6 [==============================] - 0s 2ms/step\n"
     ]
    }
   ],
   "source": [
    "pred = model.predict(X_test)"
   ]
  },
  {
   "cell_type": "code",
   "execution_count": 34,
   "id": "17dd3073",
   "metadata": {},
   "outputs": [],
   "source": [
    "pred=np.round(pred).flatten()"
   ]
  },
  {
   "cell_type": "code",
   "execution_count": 35,
   "id": "2be49952",
   "metadata": {
    "scrolled": false
   },
   "outputs": [
    {
     "data": {
      "text/plain": [
       "array([0., 1., 1., 1., 1., 0., 1., 1., 1., 1., 1., 1., 1., 0., 1., 0., 1.,\n",
       "       1., 0., 1., 0., 0., 1., 0., 1., 1., 1., 0., 1., 1., 1., 0., 1., 0.,\n",
       "       1., 0., 1., 1., 1., 1., 1., 0., 0., 0., 0., 1., 0., 0., 1., 1., 0.,\n",
       "       0., 0., 0., 1., 0., 1., 0., 1., 0., 1., 0., 0., 0., 0., 1., 1., 0.,\n",
       "       0., 0., 1., 1., 1., 1., 0., 1., 1., 0., 0., 1., 0., 0., 1., 1., 0.,\n",
       "       1., 0., 0., 0., 0., 1., 0., 0., 0., 1., 1., 0., 0., 0., 1., 1., 1.,\n",
       "       0., 1., 0., 1., 1., 0., 1., 1., 1., 1., 0., 1., 1., 0., 1., 1., 0.,\n",
       "       0., 1., 1., 1., 1., 0., 1., 0., 0., 1., 1., 1., 1., 1., 0., 1., 0.,\n",
       "       1., 1., 1., 1., 1., 0., 1., 0., 1., 0., 1., 1., 0., 1., 1., 0., 1.,\n",
       "       0., 1., 1., 0., 1., 0., 1., 1., 1., 1., 1., 1., 0., 1., 1., 1., 1.,\n",
       "       1.], dtype=float32)"
      ]
     },
     "execution_count": 35,
     "metadata": {},
     "output_type": "execute_result"
    }
   ],
   "source": [
    "pred"
   ]
  },
  {
   "cell_type": "code",
   "execution_count": 36,
   "id": "7de20ab7",
   "metadata": {},
   "outputs": [
    {
     "name": "stdout",
     "output_type": "stream",
     "text": [
      "6/6 [==============================] - 0s 3ms/step - loss: 0.0963 - accuracy: 0.9766\n",
      "accuracy= [0.09633716940879822, 0.9766082167625427]\n"
     ]
    }
   ],
   "source": [
    "print(\"accuracy=\",model.evaluate(X_test,Y_test))"
   ]
  },
  {
   "cell_type": "code",
   "execution_count": 40,
   "id": "f6abd3d2",
   "metadata": {},
   "outputs": [
    {
     "data": {
      "text/plain": [
       "array([[-0.45279263, -0.8336995 , -0.36271119, ...,  0.94996904,\n",
       "         1.83058934,  2.19097737],\n",
       "       [ 0.13646438, -1.94757579,  0.12393812, ...,  0.14781966,\n",
       "         0.02448669, -0.2138555 ],\n",
       "       [-0.28607601, -0.20381519, -0.36104885, ..., -0.96238592,\n",
       "        -1.46192261, -1.21017439],\n",
       "       ...,\n",
       "       [-0.72873737, -1.09074787, -0.71928259, ..., -0.58938646,\n",
       "         0.11017769,  0.42287743],\n",
       "       [-1.23751049, -0.25013021, -1.27034748, ..., -1.73568877,\n",
       "        -1.59045911, -0.99865323],\n",
       "       [-0.85233762, -1.03516985, -0.87221764, ..., -0.87862301,\n",
       "        -0.46823657,  0.41094547]])"
      ]
     },
     "execution_count": 40,
     "metadata": {},
     "output_type": "execute_result"
    }
   ],
   "source": []
  },
  {
   "cell_type": "markdown",
   "id": "d9a4085f",
   "metadata": {},
   "source": [
    "Save the model"
   ]
  },
  {
   "cell_type": "code",
   "execution_count": null,
   "id": "5bee6035",
   "metadata": {},
   "outputs": [],
   "source": [
    "model.save(\"LinearClassification.h5\")"
   ]
  }
 ],
 "metadata": {
  "kernelspec": {
   "display_name": "Python 3 (ipykernel)",
   "language": "python",
   "name": "python3"
  },
  "language_info": {
   "codemirror_mode": {
    "name": "ipython",
    "version": 3
   },
   "file_extension": ".py",
   "mimetype": "text/x-python",
   "name": "python",
   "nbconvert_exporter": "python",
   "pygments_lexer": "ipython3",
   "version": "3.9.13"
  }
 },
 "nbformat": 4,
 "nbformat_minor": 5
}
